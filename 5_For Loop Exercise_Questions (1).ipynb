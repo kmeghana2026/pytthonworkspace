{
 "cells": [
  {
   "cell_type": "code",
   "execution_count": 1,
   "metadata": {},
   "outputs": [
    {
     "name": "stdout",
     "output_type": "stream",
     "text": [
      "34\n",
      "35\n",
      "36\n",
      "37\n",
      "38\n",
      "39\n",
      "40\n",
      "41\n",
      "42\n",
      "43\n",
      "44\n",
      "45\n"
     ]
    }
   ],
   "source": [
    "# Write a program using for loop to print from 34 to 45 (45 included)\n",
    "\n",
    "# your Answer\n",
    "\n",
    "for i in range(34,46,1):\n",
    "    print(i)\n",
    "\n",
    "\n",
    "\n",
    "\n"
   ]
  },
  {
   "cell_type": "code",
   "execution_count": 5,
   "metadata": {},
   "outputs": [
    {
     "name": "stdout",
     "output_type": "stream",
     "text": [
      "1 .machine learning\n",
      "2 .machine learning\n",
      "3 .machine learning\n",
      "4 .machine learning\n",
      "5 .machine learning\n",
      "6 .machine learning\n",
      "7 .machine learning\n",
      "8 .machine learning\n",
      "9 .machine learning\n",
      "10 .machine learning\n",
      "11 .machine learning\n",
      "12 .machine learning\n",
      "13 .machine learning\n",
      "14 .machine learning\n",
      "15 .machine learning\n",
      "16 .machine learning\n",
      "17 .machine learning\n",
      "18 .machine learning\n",
      "19 .machine learning\n",
      "20 .machine learning\n",
      "21 .machine learning\n",
      "22 .machine learning\n",
      "23 .machine learning\n",
      "24 .machine learning\n",
      "25 .machine learning\n",
      "26 .machine learning\n",
      "27 .machine learning\n",
      "28 .machine learning\n",
      "29 .machine learning\n",
      "30 .machine learning\n",
      "31 .machine learning\n",
      "32 .machine learning\n",
      "33 .machine learning\n",
      "34 .machine learning\n",
      "35 .machine learning\n",
      "36 .machine learning\n",
      "37 .machine learning\n",
      "38 .machine learning\n",
      "39 .machine learning\n",
      "40 .machine learning\n",
      "41 .machine learning\n",
      "42 .machine learning\n",
      "43 .machine learning\n",
      "44 .machine learning\n",
      "45 .machine learning\n",
      "46 .machine learning\n",
      "47 .machine learning\n",
      "48 .machine learning\n",
      "49 .machine learning\n",
      "50 .machine learning\n"
     ]
    }
   ],
   "source": [
    "# Write a program using for loop to print \"machinelearning\" 50 times \n",
    "\n",
    "# your Answer\n",
    "\n",
    "for i in range(0,50,1):\n",
    "    print(i+1,\".machine learning\")\n",
    "\n",
    "\n",
    "\n",
    "\n"
   ]
  },
  {
   "cell_type": "code",
   "execution_count": 7,
   "metadata": {},
   "outputs": [
    {
     "name": "stdout",
     "output_type": "stream",
     "text": [
      "21\n",
      "23\n",
      "25\n",
      "27\n"
     ]
    }
   ],
   "source": [
    "# Write a program using for loop to print 21 ,23,25,27\n",
    "\n",
    "# your Answer\n",
    "\n",
    "for i in range (21,28,2):\n",
    "    print(i)\n",
    "\n",
    "\n",
    "\n",
    "\n"
   ]
  },
  {
   "cell_type": "code",
   "execution_count": 8,
   "metadata": {},
   "outputs": [
    {
     "name": "stdout",
     "output_type": "stream",
     "text": [
      "14\n",
      "15\n",
      "16\n",
      "18\n",
      "19\n",
      "20\n",
      "21\n",
      "22\n",
      "23\n",
      "24\n",
      "25\n",
      "26\n",
      "27\n",
      "28\n",
      "29\n",
      "30\n",
      "31\n",
      "32\n",
      "33\n",
      "34\n",
      "35\n",
      "36\n",
      "37\n"
     ]
    }
   ],
   "source": [
    "#Write a Python program that prints all the numbers from 14 to 37(37 inclusive) except 17 .\n",
    "#Note : Use 'continue' statement.\n",
    "#Expected Output : 14 15 16 18 19 20 21 22 23 24 25 26 27 28 29 30 31 32 33 34 35 36 37\n",
    "\n",
    "# your Answer\n",
    "\n",
    "for i in range (14,38,1):\n",
    "    if i==17:\n",
    "        continue\n",
    "    else:\n",
    "        print(i)\n",
    "\n",
    "\n",
    "\n",
    "\n"
   ]
  },
  {
   "cell_type": "code",
   "execution_count": 9,
   "metadata": {},
   "outputs": [
    {
     "name": "stdout",
     "output_type": "stream",
     "text": [
      "86\n",
      "88\n",
      "90\n",
      "92\n",
      "94\n",
      "96\n",
      "98\n"
     ]
    }
   ],
   "source": [
    "# Write a program to print only even numbers from 85 to 100 using for loop\n",
    "\n",
    "# your Answer\n",
    "\n",
    "for i in range(85,100,1):\n",
    "    if i%2==0:\n",
    "        print(i)\n",
    "    \n",
    "\n",
    "\n",
    "\n",
    "\n"
   ]
  },
  {
   "cell_type": "code",
   "execution_count": 10,
   "metadata": {},
   "outputs": [
    {
     "name": "stdout",
     "output_type": "stream",
     "text": [
      "35\n"
     ]
    }
   ],
   "source": [
    "# Write a Python program to find those numbers which are divisible by 7 and multiple of 5, between 14 and 37\n",
    "\n",
    "# your Answer\n",
    "for i in range(14,37,1):\n",
    "    if i%7==0 and i%5==0:\n",
    "        print(i)\n",
    "\n",
    "\n",
    "\n",
    "\n",
    "\n"
   ]
  },
  {
   "cell_type": "code",
   "execution_count": 25,
   "metadata": {},
   "outputs": [
    {
     "name": "stdout",
     "output_type": "stream",
     "text": [
      "hello 15\n",
      "good morning 15\n",
      "hi 15\n",
      "hello 18\n",
      "hi 20\n",
      "hello 21\n",
      "hello 24\n",
      "hi 25\n",
      "hello 27\n",
      "hello 30\n",
      "good morning 30\n",
      "hi 30\n",
      "hello 33\n",
      "hi 35\n",
      "hello 36\n"
     ]
    }
   ],
   "source": [
    "#Write a Python program which iterates the integers from 14 to 37. \n",
    "#For multiples of three print \"hello\" instead of the number and for the multiples of five print \"hi\". \n",
    "#For numbers which are multiples of both three and five print \"goodmorning\"\n",
    "\n",
    "# your Answer\n",
    "for i in range(14,37):\n",
    "    if i%3==0:\n",
    "        print('hello',i)\n",
    "    if i%5==0 and i%3==0:\n",
    "        print('good morning',i)\n",
    "    if i%5==0:\n",
    "        print('hi',i)\n",
    "\n",
    "\n"
   ]
  },
  {
   "cell_type": "code",
   "execution_count": 17,
   "metadata": {},
   "outputs": [
    {
     "name": "stdout",
     "output_type": "stream",
     "text": [
      "2 * 1 = 2\n",
      "2 * 2 = 4\n",
      "2 * 3 = 6\n",
      "2 * 4 = 8\n",
      "2 * 5 = 10\n",
      "2 * 6 = 12\n",
      "2 * 7 = 14\n",
      "2 * 8 = 16\n",
      "2 * 9 = 18\n",
      "2 * 10 = 20\n"
     ]
    }
   ],
   "source": [
    "\n",
    "\"\"\"\n",
    "2*1 = 2\n",
    "2*2 = 4\n",
    ".\n",
    ".\n",
    ".\n",
    "2*10 = 20\n",
    "\"\"\"\n",
    "#Write program to print 2 table like above \n",
    "\n",
    "# your Answer\n",
    "\n",
    "for i in range(1,11):\n",
    "    print(\"2 *\",i,\"=\",2*i)\n",
    "\n",
    "\n",
    "\n",
    "\n"
   ]
  }
 ],
 "metadata": {
  "kernelspec": {
   "display_name": "Python 3 (ipykernel)",
   "language": "python",
   "name": "python3"
  },
  "language_info": {
   "codemirror_mode": {
    "name": "ipython",
    "version": 3
   },
   "file_extension": ".py",
   "mimetype": "text/x-python",
   "name": "python",
   "nbconvert_exporter": "python",
   "pygments_lexer": "ipython3",
   "version": "3.11.4"
  }
 },
 "nbformat": 4,
 "nbformat_minor": 2
}
