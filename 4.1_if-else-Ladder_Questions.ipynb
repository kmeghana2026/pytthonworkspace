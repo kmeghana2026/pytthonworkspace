{
 "cells": [
  {
   "cell_type": "raw",
   "metadata": {},
   "source": [
    "Read Five marks tamil,english,maths,science and social and if all marks are greater than 35 , print pass else print fail"
   ]
  },
  {
   "cell_type": "code",
   "execution_count": 1,
   "metadata": {},
   "outputs": [
    {
     "name": "stdout",
     "output_type": "stream",
     "text": [
      "enter tamil marks:23\n",
      "enter english marks:87\n",
      "enter maths marks:35\n",
      "enter science marks:35\n",
      "enter social marks:65\n",
      "fail\n"
     ]
    }
   ],
   "source": [
    "t=int(input(\"enter tamil marks:\"))\n",
    "e=int(input(\"enter english marks:\"))\n",
    "m=int(input(\"enter maths marks:\"))\n",
    "sc=int(input(\"enter science marks:\"))\n",
    "s=int(input(\"enter social marks:\"))\n",
    "if t>35 and e>35 and m>35 and sc>35 and s>35:\n",
    "    print(\"pass\")\n",
    "else:\n",
    "    print(\"fail\")"
   ]
  }
 ],
 "metadata": {
  "kernelspec": {
   "display_name": "Python 3 (ipykernel)",
   "language": "python",
   "name": "python3"
  },
  "language_info": {
   "codemirror_mode": {
    "name": "ipython",
    "version": 3
   },
   "file_extension": ".py",
   "mimetype": "text/x-python",
   "name": "python",
   "nbconvert_exporter": "python",
   "pygments_lexer": "ipython3",
   "version": "3.11.4"
  }
 },
 "nbformat": 4,
 "nbformat_minor": 2
}
